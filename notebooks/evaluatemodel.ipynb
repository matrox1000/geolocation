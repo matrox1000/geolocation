{
 "cells": [
  {
   "cell_type": "code",
   "execution_count": 1,
   "id": "5631ef9d",
   "metadata": {
    "_cell_guid": "2be9fd33-f504-490a-ab2e-0708202c0a0e",
    "_uuid": "88228d8c-55b0-4e37-8763-924a83c69cd5",
    "collapsed": false,
    "execution": {
     "iopub.execute_input": "2022-03-31T10:54:56.124208Z",
     "iopub.status.busy": "2022-03-31T10:54:56.123410Z",
     "iopub.status.idle": "2022-03-31T10:55:05.489781Z",
     "shell.execute_reply": "2022-03-31T10:55:05.488732Z",
     "shell.execute_reply.started": "2022-03-31T10:37:09.994790Z"
    },
    "jupyter": {
     "outputs_hidden": false
    },
    "papermill": {
     "duration": 9.386141,
     "end_time": "2022-03-31T10:55:05.489965",
     "exception": false,
     "start_time": "2022-03-31T10:54:56.103824",
     "status": "completed"
    },
    "tags": []
   },
   "outputs": [
    {
     "name": "stdout",
     "output_type": "stream",
     "text": [
      "Collecting tez\r\n",
      "  Downloading tez-0.6.3-py3-none-any.whl (19 kB)\r\n",
      "Installing collected packages: tez\r\n",
      "Successfully installed tez-0.6.3\r\n",
      "\u001b[33mWARNING: Running pip as the 'root' user can result in broken permissions and conflicting behaviour with the system package manager. It is recommended to use a virtual environment instead: https://pip.pypa.io/warnings/venv\u001b[0m\r\n"
     ]
    }
   ],
   "source": [
    "# Tez is currently not available on kaggle but you can install it using pip \n",
    "# or just add tez-lib dataset to the python path.\n",
    "# If internet is enabled (and allowed), you can just install using pip\n",
    "!pip install tez"
   ]
  },
  {
   "cell_type": "code",
   "execution_count": 2,
   "id": "9e798e7b",
   "metadata": {
    "_cell_guid": "c74558b8-53b3-4cf8-b3e9-0f114528a748",
    "_uuid": "bbb5fca3-3bf3-4c45-b801-e8539617e6ff",
    "collapsed": false,
    "execution": {
     "iopub.execute_input": "2022-03-31T10:55:05.520202Z",
     "iopub.status.busy": "2022-03-31T10:55:05.515552Z",
     "iopub.status.idle": "2022-03-31T10:55:14.576371Z",
     "shell.execute_reply": "2022-03-31T10:55:14.575816Z",
     "shell.execute_reply.started": "2022-03-31T10:50:34.202581Z"
    },
    "jupyter": {
     "outputs_hidden": false
    },
    "papermill": {
     "duration": 9.075587,
     "end_time": "2022-03-31T10:55:14.576535",
     "exception": false,
     "start_time": "2022-03-31T10:55:05.500948",
     "status": "completed"
    },
    "tags": []
   },
   "outputs": [
    {
     "name": "stdout",
     "output_type": "stream",
     "text": [
      "Collecting timm\r\n",
      "  Downloading timm-0.5.4-py3-none-any.whl (431 kB)\r\n",
      "     |████████████████████████████████| 431 kB 559 kB/s            \r\n",
      "\u001b[?25hRequirement already satisfied: torch>=1.4 in /opt/conda/lib/python3.7/site-packages (from timm) (1.9.1)\r\n",
      "Requirement already satisfied: torchvision in /opt/conda/lib/python3.7/site-packages (from timm) (0.10.1)\r\n",
      "Requirement already satisfied: typing-extensions in /opt/conda/lib/python3.7/site-packages (from torch>=1.4->timm) (4.1.1)\r\n",
      "Requirement already satisfied: numpy in /opt/conda/lib/python3.7/site-packages (from torchvision->timm) (1.20.3)\r\n",
      "Requirement already satisfied: pillow>=5.3.0 in /opt/conda/lib/python3.7/site-packages (from torchvision->timm) (8.2.0)\r\n",
      "Installing collected packages: timm\r\n",
      "Successfully installed timm-0.5.4\r\n",
      "\u001b[33mWARNING: Running pip as the 'root' user can result in broken permissions and conflicting behaviour with the system package manager. It is recommended to use a virtual environment instead: https://pip.pypa.io/warnings/venv\u001b[0m\r\n"
     ]
    }
   ],
   "source": [
    "!pip install timm"
   ]
  },
  {
   "cell_type": "code",
   "execution_count": 3,
   "id": "21518c37",
   "metadata": {
    "_cell_guid": "6a4b935e-df94-4d86-bc4b-1bc2c7d3db47",
    "_uuid": "26d277a3-4977-4ea1-9d72-41e6f21c35df",
    "collapsed": false,
    "execution": {
     "iopub.execute_input": "2022-03-31T10:55:14.615088Z",
     "iopub.status.busy": "2022-03-31T10:55:14.614188Z",
     "iopub.status.idle": "2022-03-31T10:55:19.372199Z",
     "shell.execute_reply": "2022-03-31T10:55:19.371675Z",
     "shell.execute_reply.started": "2022-03-31T10:50:43.881497Z"
    },
    "jupyter": {
     "outputs_hidden": false
    },
    "papermill": {
     "duration": 4.781084,
     "end_time": "2022-03-31T10:55:19.372330",
     "exception": false,
     "start_time": "2022-03-31T10:55:14.591246",
     "status": "completed"
    },
    "tags": []
   },
   "outputs": [],
   "source": [
    "# Everything becomes easy and intuitive from here. \n",
    "# Also, Tez keeps your code clean and readable!\n",
    "# Let's import a few things.\n",
    "\n",
    "import glob\n",
    "import os\n",
    "import albumentations\n",
    "import timm\n",
    "import torch\n",
    "import torch.nn as nn\n",
    "from sklearn import metrics, preprocessing, model_selection\n",
    "\n",
    "from tez import Tez, TezConfig\n",
    "from tez.callbacks import EarlyStopping\n",
    "from tez.datasets import ImageDataset\n",
    "\n",
    "\n",
    "import matplotlib.pyplot as plt\n",
    "import pandas as pd\n",
    "import numpy as np\n",
    "\n",
    "%matplotlib inline"
   ]
  },
  {
   "cell_type": "code",
   "execution_count": 4,
   "id": "066d19b3",
   "metadata": {
    "_cell_guid": "cc37420f-8284-407e-bd3f-7a71c0f7800f",
    "_uuid": "da91c76f-6fec-4184-b914-6395f5fee0ce",
    "collapsed": false,
    "execution": {
     "iopub.execute_input": "2022-03-31T10:55:19.403478Z",
     "iopub.status.busy": "2022-03-31T10:55:19.402875Z",
     "iopub.status.idle": "2022-03-31T10:55:19.406726Z",
     "shell.execute_reply": "2022-03-31T10:55:19.406218Z",
     "shell.execute_reply.started": "2022-03-31T10:50:46.582780Z"
    },
    "jupyter": {
     "outputs_hidden": false
    },
    "papermill": {
     "duration": 0.021156,
     "end_time": "2022-03-31T10:55:19.406837",
     "exception": false,
     "start_time": "2022-03-31T10:55:19.385681",
     "status": "completed"
    },
    "tags": []
   },
   "outputs": [],
   "source": [
    "\n",
    "INPUT_PATH = \"../input/instacities1m/\"\n",
    "IMAGE_PATH = \"../input/instacities1m/InstaCities1M/img_resized_1M/cities_instagram\"\n",
    "MODEL_PATH = \"../working/\"\n",
    "MODEL_NAME = \"resnet18\"\n",
    "#MODEL_NAME = os.path.basename(__file__)[:-3]\n",
    "TRAIN_BATCH_SIZE = 32\n",
    "VALID_BATCH_SIZE = 32\n",
    "EPOCHS = 20\n",
    "IMAGE_SIZE = 300"
   ]
  },
  {
   "cell_type": "code",
   "execution_count": 5,
   "id": "28d459bd",
   "metadata": {
    "_cell_guid": "d1c069e6-414c-4473-ae35-840784b4e430",
    "_uuid": "e186f866-9fe9-4723-bbad-56efe57b9082",
    "collapsed": false,
    "execution": {
     "iopub.execute_input": "2022-03-31T10:55:19.436867Z",
     "iopub.status.busy": "2022-03-31T10:55:19.436070Z",
     "iopub.status.idle": "2022-03-31T10:55:19.446937Z",
     "shell.execute_reply": "2022-03-31T10:55:19.446521Z",
     "shell.execute_reply.started": "2022-03-31T10:50:48.477958Z"
    },
    "jupyter": {
     "outputs_hidden": false
    },
    "papermill": {
     "duration": 0.026698,
     "end_time": "2022-03-31T10:55:19.447095",
     "exception": false,
     "start_time": "2022-03-31T10:55:19.420397",
     "status": "completed"
    },
    "tags": []
   },
   "outputs": [],
   "source": [
    "# Let's define a model now\n",
    "# We inherit from tez.Model instead of nn.Module\n",
    "# we have monitor_metrics if we want to monitor any metrics\n",
    "# except the loss\n",
    "# and we return 3 values in forward function.\n",
    "\n",
    "class InstaModel(nn.Module):\n",
    "    def __init__(self, num_classes):\n",
    "        super().__init__()\n",
    "\n",
    "        self.model = timm.create_model(\"resnet18\", pretrained=True)\n",
    "        n_features = self.model.fc.in_features\n",
    "        self.model.fc = nn.Linear(n_features, num_classes)\n",
    "        \n",
    "    def monitor_metrics(self, outputs, targets):\n",
    "        device = targets.get_device()\n",
    "        if targets is None:\n",
    "            return {}\n",
    "        outputs = torch.argmax(outputs, dim=1).cpu().detach().numpy()\n",
    "        targets = targets.cpu().detach().numpy()\n",
    "        accuracy = metrics.accuracy_score(targets, outputs)\n",
    "        return {\"accuracy\": torch.tensor(accuracy, device=device)}\n",
    "    \n",
    "    def optimizer_scheduler(self):\n",
    "        opt = torch.optim.Adam(self.parameters(), lr=1e-3)\n",
    "        sch = torch.optim.lr_scheduler.ReduceLROnPlateau(\n",
    "            opt,\n",
    "            factor=0.5,\n",
    "            patience=2,\n",
    "            verbose=True,\n",
    "            mode=\"max\",\n",
    "            threshold=1e-4,\n",
    "        )\n",
    "        return opt, sch\n",
    "  \n",
    "    def forward(self, image, targets=None):\n",
    "\n",
    "        outputs = self.model(image)\n",
    "        \n",
    "        if targets is not None:\n",
    "            loss = nn.CrossEntropyLoss()(outputs, targets)\n",
    "            metrics = self.monitor_metrics(outputs, targets)\n",
    "            return outputs, loss, metrics\n",
    "        return outputs, None, None"
   ]
  },
  {
   "cell_type": "code",
   "execution_count": 6,
   "id": "c5ebbf8d",
   "metadata": {
    "_cell_guid": "1f22c106-aac5-4d65-b936-7e605aa4ca15",
    "_uuid": "8d6be410-aa24-40ce-901a-065a0a1c300b",
    "collapsed": false,
    "execution": {
     "iopub.execute_input": "2022-03-31T10:55:19.484812Z",
     "iopub.status.busy": "2022-03-31T10:55:19.484269Z",
     "iopub.status.idle": "2022-03-31T11:06:15.459505Z",
     "shell.execute_reply": "2022-03-31T11:06:15.460026Z",
     "shell.execute_reply.started": "2022-03-31T10:53:05.948617Z"
    },
    "jupyter": {
     "outputs_hidden": false
    },
    "papermill": {
     "duration": 655.999838,
     "end_time": "2022-03-31T11:06:15.460269",
     "exception": false,
     "start_time": "2022-03-31T10:55:19.460431",
     "status": "completed"
    },
    "tags": []
   },
   "outputs": [
    {
     "name": "stderr",
     "output_type": "stream",
     "text": [
      "Downloading: \"https://download.pytorch.org/models/resnet18-5c106cde.pth\" to /root/.cache/torch/hub/checkpoints/resnet18-5c106cde.pth\n"
     ]
    },
    {
     "name": "stdout",
     "output_type": "stream",
     "text": [
      "Precision image: 0.27395\n"
     ]
    }
   ],
   "source": [
    "dfx = pd.read_csv(INPUT_PATH + \"test.csv\")\n",
    "dfx = dfx.dropna().reset_index(drop=True)\n",
    "dfx[\"path\"] = dfx[\"category\"].astype(str) + \"/\" + dfx[\"id\"].astype(str) + \".jpg\"\n",
    "    \n",
    "lbl_enc = preprocessing.LabelEncoder()\n",
    "dfx.category = lbl_enc.fit_transform(dfx.category.values)\n",
    "\n",
    "\n",
    "\n",
    "\n",
    "\n",
    "test_image_paths = [os.path.join(IMAGE_PATH, x ) for x in dfx.path.values]\n",
    "test_targets = dfx.category.values\n",
    "\n",
    "dataset_aug = albumentations.Compose(\n",
    "    [\n",
    "    albumentations.Resize(256, 256)\n",
    "    ]\n",
    ")\n",
    "\n",
    "\n",
    "test_dataset = ImageDataset(\n",
    "    image_paths=test_image_paths,\n",
    "    targets=test_targets,\n",
    "    augmentations=dataset_aug,\n",
    "    backend=\"cv2\"\n",
    "\n",
    "\n",
    ")\n",
    "\n",
    "\n",
    "model = InstaModel(num_classes=dfx.category.nunique())\n",
    "es = EarlyStopping(\n",
    "    monitor=\"valid_loss\",\n",
    "    model_path=os.path.join(MODEL_PATH, MODEL_NAME + \".bin\"),\n",
    "    patience=3,\n",
    "    mode=\"min\",\n",
    ")\n",
    "\n",
    "model = Tez(model)\n",
    "config = TezConfig(\n",
    "    training_batch_size=TRAIN_BATCH_SIZE,\n",
    "    validation_batch_size=VALID_BATCH_SIZE,\n",
    "    epochs=EPOCHS,\n",
    "    step_scheduler_after=\"epoch\",\n",
    "    step_scheduler_metric=\"valid_loss\",\n",
    ")\n",
    "\n",
    "model.load(\"../input/using-tez-in-leaf-disease-classification/resnet18.bin\")\n",
    "\n",
    "preds = model.predict(test_dataset, batch_size=32, n_jobs=-1)\n",
    "predictions = list()\n",
    "for yhat in preds:\n",
    "    predictions.extend(yhat)\n",
    "    \n",
    "np.savetxt(\"./predictions_text.csv\", \n",
    "       predictions,\n",
    "       delimiter =\", \", \n",
    "       fmt ='% s')\n",
    "predictions = np.argmax(predictions, axis=1)\n",
    "print(\"Precision image: \" + str(metrics.accuracy_score(dfx.category.values, predictions)))\n",
    "\n"
   ]
  },
  {
   "cell_type": "code",
   "execution_count": null,
   "id": "d0db24ea",
   "metadata": {
    "_cell_guid": "f413af83-6009-4511-a03a-b4d9044bedce",
    "_uuid": "bd080256-cb62-4ba0-9c8a-11c5d079ec38",
    "collapsed": false,
    "jupyter": {
     "outputs_hidden": false
    },
    "papermill": {
     "duration": 0.013683,
     "end_time": "2022-03-31T11:06:15.487652",
     "exception": false,
     "start_time": "2022-03-31T11:06:15.473969",
     "status": "completed"
    },
    "tags": []
   },
   "outputs": [],
   "source": []
  },
  {
   "cell_type": "code",
   "execution_count": null,
   "id": "8e2c9a46",
   "metadata": {
    "_cell_guid": "8b26582e-9cd4-4653-abc9-54b6ea9c1da4",
    "_uuid": "3f86ce11-e49c-4027-ad18-ea9726ea0322",
    "collapsed": false,
    "jupyter": {
     "outputs_hidden": false
    },
    "papermill": {
     "duration": 0.013243,
     "end_time": "2022-03-31T11:06:15.514872",
     "exception": false,
     "start_time": "2022-03-31T11:06:15.501629",
     "status": "completed"
    },
    "tags": []
   },
   "outputs": [],
   "source": []
  }
 ],
 "metadata": {
  "kernelspec": {
   "display_name": "Python 3",
   "language": "python",
   "name": "python3"
  },
  "language_info": {
   "codemirror_mode": {
    "name": "ipython",
    "version": 3
   },
   "file_extension": ".py",
   "mimetype": "text/x-python",
   "name": "python",
   "nbconvert_exporter": "python",
   "pygments_lexer": "ipython3",
   "version": "3.7.12"
  },
  "papermill": {
   "default_parameters": {},
   "duration": 690.470918,
   "end_time": "2022-03-31T11:06:18.192953",
   "environment_variables": {},
   "exception": null,
   "input_path": "__notebook__.ipynb",
   "output_path": "__notebook__.ipynb",
   "parameters": {},
   "start_time": "2022-03-31T10:54:47.722035",
   "version": "2.3.3"
  }
 },
 "nbformat": 4,
 "nbformat_minor": 5
}
