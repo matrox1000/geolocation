{
 "cells": [
  {
   "cell_type": "code",
   "execution_count": 1,
   "id": "7ee93652",
   "metadata": {
    "_cell_guid": "b1076dfc-b9ad-4769-8c92-a6c4dae69d19",
    "_uuid": "8f2839f25d086af736a60e9eeb907d3b93b6e0e5",
    "execution": {
     "iopub.execute_input": "2022-05-03T10:25:00.238352Z",
     "iopub.status.busy": "2022-05-03T10:25:00.237762Z",
     "iopub.status.idle": "2022-05-03T10:25:27.588522Z",
     "shell.execute_reply": "2022-05-03T10:25:27.587373Z"
    },
    "papermill": {
     "duration": 27.365292,
     "end_time": "2022-05-03T10:25:27.591195",
     "exception": false,
     "start_time": "2022-05-03T10:25:00.225903",
     "status": "completed"
    },
    "tags": []
   },
   "outputs": [
    {
     "name": "stdout",
     "output_type": "stream",
     "text": [
      "Collecting tez\r\n",
      "  Downloading tez-0.6.5-py3-none-any.whl (19 kB)\r\n",
      "Installing collected packages: tez\r\n",
      "Successfully installed tez-0.6.5\r\n",
      "\u001b[33mWARNING: Running pip as the 'root' user can result in broken permissions and conflicting behaviour with the system package manager. It is recommended to use a virtual environment instead: https://pip.pypa.io/warnings/venv\u001b[0m\u001b[33m\r\n",
      "\u001b[0mCollecting timm\r\n",
      "  Downloading timm-0.5.4-py3-none-any.whl (431 kB)\r\n",
      "\u001b[2K     \u001b[90m━━━━━━━━━━━━━━━━━━━━━━━━━━━━━━━━━━━━━━━\u001b[0m \u001b[32m431.5/431.5 KB\u001b[0m \u001b[31m1.3 MB/s\u001b[0m eta \u001b[36m0:00:00\u001b[0m\r\n",
      "\u001b[?25hRequirement already satisfied: torchvision in /opt/conda/lib/python3.7/site-packages (from timm) (0.10.1)\r\n",
      "Requirement already satisfied: torch>=1.4 in /opt/conda/lib/python3.7/site-packages (from timm) (1.9.1)\r\n",
      "Requirement already satisfied: typing-extensions in /opt/conda/lib/python3.7/site-packages (from torch>=1.4->timm) (4.2.0)\r\n",
      "Requirement already satisfied: pillow>=5.3.0 in /opt/conda/lib/python3.7/site-packages (from torchvision->timm) (9.0.1)\r\n",
      "Requirement already satisfied: numpy in /opt/conda/lib/python3.7/site-packages (from torchvision->timm) (1.21.6)\r\n",
      "Installing collected packages: timm\r\n",
      "Successfully installed timm-0.5.4\r\n",
      "\u001b[33mWARNING: Running pip as the 'root' user can result in broken permissions and conflicting behaviour with the system package manager. It is recommended to use a virtual environment instead: https://pip.pypa.io/warnings/venv\u001b[0m\u001b[33m\r\n",
      "\u001b[0m"
     ]
    }
   ],
   "source": [
    "!pip install tez\n",
    "!pip install timm"
   ]
  },
  {
   "cell_type": "code",
   "execution_count": 2,
   "id": "9f742239",
   "metadata": {
    "execution": {
     "iopub.execute_input": "2022-05-03T10:25:27.623194Z",
     "iopub.status.busy": "2022-05-03T10:25:27.621772Z",
     "iopub.status.idle": "2022-05-03T10:25:38.024578Z",
     "shell.execute_reply": "2022-05-03T10:25:38.023259Z"
    },
    "papermill": {
     "duration": 10.422884,
     "end_time": "2022-05-03T10:25:38.029068",
     "exception": false,
     "start_time": "2022-05-03T10:25:27.606184",
     "status": "completed"
    },
    "tags": []
   },
   "outputs": [],
   "source": [
    "# Everything becomes easy and intuitive from here. \n",
    "# Also, Tez keeps your code clean and readable!\n",
    "# Let's import a few things.\n",
    "\n",
    "import glob\n",
    "import os\n",
    "\n",
    "import albumentations\n",
    "import timm\n",
    "import torch\n",
    "import torch.nn as nn\n",
    "from sklearn import metrics, preprocessing, model_selection\n",
    "\n",
    "from tez import Tez, TezConfig\n",
    "from tez.callbacks import EarlyStopping\n",
    "from tez.datasets import ImageDataset\n",
    "\n",
    "\n",
    "import matplotlib.pyplot as plt\n",
    "import pandas as pd\n",
    "import numpy as np\n",
    "\n",
    "%matplotlib inline"
   ]
  },
  {
   "cell_type": "code",
   "execution_count": 3,
   "id": "0fd6059d",
   "metadata": {
    "execution": {
     "iopub.execute_input": "2022-05-03T10:25:38.093159Z",
     "iopub.status.busy": "2022-05-03T10:25:38.092630Z",
     "iopub.status.idle": "2022-05-03T10:25:38.100800Z",
     "shell.execute_reply": "2022-05-03T10:25:38.099541Z"
    },
    "papermill": {
     "duration": 0.047347,
     "end_time": "2022-05-03T10:25:38.107359",
     "exception": false,
     "start_time": "2022-05-03T10:25:38.060012",
     "status": "completed"
    },
    "tags": []
   },
   "outputs": [],
   "source": [
    "INPUT_PATH = \"../input/instacities1m/\"\n",
    "IMAGE_PATH = \"../input/instacities1m/InstaCities1M/img_resized_1M/cities_instagram\"\n",
    "MODEL_PATH = \"../working/\"\n",
    "MODEL_NAME = \"vit_base_patch16_224\"\n",
    "#MODEL_NAME = os.path.basename(__file__)[:-3]\n",
    "TRAIN_BATCH_SIZE = 32\n",
    "VALID_BATCH_SIZE = 32\n",
    "EPOCHS = 20\n",
    "IMAGE_SIZE = 300\n",
    "IMAGE_SIZE_MODEL=224"
   ]
  },
  {
   "cell_type": "code",
   "execution_count": 4,
   "id": "8dea805f",
   "metadata": {
    "execution": {
     "iopub.execute_input": "2022-05-03T10:25:38.169909Z",
     "iopub.status.busy": "2022-05-03T10:25:38.168776Z",
     "iopub.status.idle": "2022-05-03T10:25:38.191283Z",
     "shell.execute_reply": "2022-05-03T10:25:38.190159Z"
    },
    "papermill": {
     "duration": 0.056231,
     "end_time": "2022-05-03T10:25:38.193849",
     "exception": false,
     "start_time": "2022-05-03T10:25:38.137618",
     "status": "completed"
    },
    "tags": []
   },
   "outputs": [],
   "source": [
    "# Let's define a model now\n",
    "# We inherit from tez.Model instead of nn.Module\n",
    "# we have monitor_metrics if we want to monitor any metrics\n",
    "# except the loss\n",
    "# and we return 3 values in forward function.\n",
    "\n",
    "class InstaModel(nn.Module):\n",
    "    def __init__(self, num_classes):\n",
    "        super().__init__()\n",
    "        self.model = timm.create_model(MODEL_NAME, pretrained=True, num_classes= num_classes)\n",
    "        \n",
    "    def monitor_metrics(self, outputs, targets):\n",
    "        device = targets.get_device()\n",
    "        if targets is None:\n",
    "            return {}\n",
    "        outputs = torch.argmax(outputs, dim=1).cpu().detach().numpy()\n",
    "        targets = targets.cpu().detach().numpy()\n",
    "        accuracy = metrics.accuracy_score(targets, outputs)\n",
    "        return {\"accuracy\": torch.tensor(accuracy, device=device)}\n",
    "    \n",
    "    def optimizer_scheduler(self):\n",
    "        opt = torch.optim.Adam(self.parameters(), lr=1e-3)\n",
    "        sch = torch.optim.lr_scheduler.ReduceLROnPlateau(\n",
    "            opt,\n",
    "            factor=0.5,\n",
    "            patience=2,\n",
    "            verbose=True,\n",
    "            mode=\"max\",\n",
    "            threshold=1e-4,\n",
    "        )\n",
    "        return opt, sch\n",
    "  \n",
    "    def forward(self, image, targets=None):\n",
    "\n",
    "        outputs = self.model(image)\n",
    "        \n",
    "        if targets is not None:\n",
    "            loss = nn.CrossEntropyLoss()(outputs, targets)\n",
    "            metrics = self.monitor_metrics(outputs, targets)\n",
    "            return outputs, loss, metrics\n",
    "        return outputs, None, None"
   ]
  },
  {
   "cell_type": "code",
   "execution_count": 5,
   "id": "b60f2bd3",
   "metadata": {
    "execution": {
     "iopub.execute_input": "2022-05-03T10:25:38.229208Z",
     "iopub.status.busy": "2022-05-03T10:25:38.227713Z",
     "iopub.status.idle": "2022-05-03T10:38:30.743226Z",
     "shell.execute_reply": "2022-05-03T10:38:30.742116Z"
    },
    "papermill": {
     "duration": 772.550233,
     "end_time": "2022-05-03T10:38:30.760535",
     "exception": false,
     "start_time": "2022-05-03T10:25:38.210302",
     "status": "completed"
    },
    "tags": []
   },
   "outputs": [
    {
     "name": "stdout",
     "output_type": "stream",
     "text": [
      "Precision image: 0.11468\n"
     ]
    }
   ],
   "source": [
    "dfx = pd.read_csv(INPUT_PATH + \"test.csv\")\n",
    "dfx = dfx.dropna().reset_index(drop=True)\n",
    "dfx[\"path\"] = dfx[\"category\"].astype(str) + \"/\" + dfx[\"id\"].astype(str) + \".jpg\"\n",
    "    \n",
    "lbl_enc = preprocessing.LabelEncoder()\n",
    "dfx.category = lbl_enc.fit_transform(dfx.category.values)\n",
    "\n",
    "\n",
    "\n",
    "test_image_paths = [os.path.join(IMAGE_PATH, x ) for x in dfx.path.values]\n",
    "test_targets = dfx.category.values\n",
    "\n",
    "dataset_aug = albumentations.Compose(\n",
    "    [\n",
    "    albumentations.Resize(IMAGE_SIZE_MODEL, IMAGE_SIZE_MODEL)\n",
    "    ]\n",
    ")\n",
    "\n",
    "\n",
    "test_dataset = ImageDataset(\n",
    "    image_paths=test_image_paths,\n",
    "    targets=test_targets,\n",
    "    augmentations=dataset_aug,\n",
    "    backend=\"cv2\"\n",
    "\n",
    "\n",
    ")\n",
    "\n",
    "\n",
    "model = InstaModel(num_classes=dfx.category.nunique())\n",
    "es = EarlyStopping(\n",
    "    monitor=\"valid_loss\",\n",
    "    model_path=os.path.join(MODEL_PATH, MODEL_NAME + \".bin\"),\n",
    "    patience=3,\n",
    "    mode=\"min\",\n",
    ")\n",
    "\n",
    "model = Tez(model)\n",
    "config = TezConfig(\n",
    "    training_batch_size=TRAIN_BATCH_SIZE,\n",
    "    validation_batch_size=VALID_BATCH_SIZE,\n",
    "    epochs=EPOCHS,\n",
    "    step_scheduler_after=\"epoch\",\n",
    "    step_scheduler_metric=\"valid_loss\",\n",
    ")\n",
    "\n",
    "model.load(\"../input/onlyimagevit/vit_base_patch16_224.bin\")\n",
    "\n",
    "preds = model.predict(test_dataset, batch_size=32, n_jobs=-1)\n",
    "predictions = list()\n",
    "for yhat in preds:\n",
    "    predictions.extend(yhat)\n",
    "    \n",
    "np.savetxt(\"./predictions_text.csv\", \n",
    "       predictions,\n",
    "       delimiter =\", \", \n",
    "       fmt ='% s')\n",
    "predictions = np.argmax(predictions, axis=1)\n",
    "print(\"Precision image: \" + str(metrics.accuracy_score(dfx.category.values, predictions)))\n",
    "\n",
    "\n"
   ]
  },
  {
   "cell_type": "code",
   "execution_count": null,
   "id": "e9e37bb2",
   "metadata": {
    "papermill": {
     "duration": 0.014183,
     "end_time": "2022-05-03T10:38:30.790360",
     "exception": false,
     "start_time": "2022-05-03T10:38:30.776177",
     "status": "completed"
    },
    "tags": []
   },
   "outputs": [],
   "source": []
  }
 ],
 "metadata": {
  "kernelspec": {
   "display_name": "Python 3",
   "language": "python",
   "name": "python3"
  },
  "language_info": {
   "codemirror_mode": {
    "name": "ipython",
    "version": 3
   },
   "file_extension": ".py",
   "mimetype": "text/x-python",
   "name": "python",
   "nbconvert_exporter": "python",
   "pygments_lexer": "ipython3",
   "version": "3.7.12"
  },
  "papermill": {
   "default_parameters": {},
   "duration": 823.95312,
   "end_time": "2022-05-03T10:38:34.440640",
   "environment_variables": {},
   "exception": null,
   "input_path": "__notebook__.ipynb",
   "output_path": "__notebook__.ipynb",
   "parameters": {},
   "start_time": "2022-05-03T10:24:50.487520",
   "version": "2.3.4"
  }
 },
 "nbformat": 4,
 "nbformat_minor": 5
}
